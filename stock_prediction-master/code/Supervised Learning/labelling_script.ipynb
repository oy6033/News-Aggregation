{
 "cells": [
  {
   "cell_type": "code",
   "execution_count": 4,
   "metadata": {},
   "outputs": [],
   "source": [
    "import pandas as pd"
   ]
  },
  {
   "cell_type": "code",
   "execution_count": 5,
   "metadata": {},
   "outputs": [],
   "source": [
    "apple_5 = pd.read_csv('data/CHARTS/APPLE5.csv',header=None,names=['date','Time','Open','High','Low','Close','Volume'])"
   ]
  },
  {
   "cell_type": "code",
   "execution_count": 6,
   "metadata": {},
   "outputs": [],
   "source": [
    "apple_5['average'] = (apple_5['Open'] + apple_5['Close'])"
   ]
  },
  {
   "cell_type": "code",
   "execution_count": 29,
   "metadata": {},
   "outputs": [],
   "source": []
  },
  {
   "cell_type": "code",
   "execution_count": 30,
   "metadata": {},
   "outputs": [],
   "source": [
    "news_data['date'] = pd.to_datetime(news_data['Published_date']).dt.date\n",
    "news_data['time'] = pd.to_datetime(news_data['Published_date']).dt.time"
   ]
  },
  {
   "cell_type": "code",
   "execution_count": 31,
   "metadata": {
    "collapsed": true
   },
   "outputs": [
    {
     "data": {
      "text/html": [
       "<div>\n",
       "<style scoped>\n",
       "    .dataframe tbody tr th:only-of-type {\n",
       "        vertical-align: middle;\n",
       "    }\n",
       "\n",
       "    .dataframe tbody tr th {\n",
       "        vertical-align: top;\n",
       "    }\n",
       "\n",
       "    .dataframe thead th {\n",
       "        text-align: right;\n",
       "    }\n",
       "</style>\n",
       "<table border=\"1\" class=\"dataframe\">\n",
       "  <thead>\n",
       "    <tr style=\"text-align: right;\">\n",
       "      <th></th>\n",
       "      <th>date</th>\n",
       "      <th>Time</th>\n",
       "      <th>Open</th>\n",
       "      <th>High</th>\n",
       "      <th>Low</th>\n",
       "      <th>Close</th>\n",
       "      <th>Volume</th>\n",
       "      <th>difference</th>\n",
       "    </tr>\n",
       "  </thead>\n",
       "  <tbody>\n",
       "    <tr>\n",
       "      <th>0</th>\n",
       "      <td>2017.07.12</td>\n",
       "      <td>19:45</td>\n",
       "      <td>145.98</td>\n",
       "      <td>146.04</td>\n",
       "      <td>145.83</td>\n",
       "      <td>145.83</td>\n",
       "      <td>808</td>\n",
       "      <td>0.15</td>\n",
       "    </tr>\n",
       "    <tr>\n",
       "      <th>1</th>\n",
       "      <td>2017.07.12</td>\n",
       "      <td>19:50</td>\n",
       "      <td>145.86</td>\n",
       "      <td>145.94</td>\n",
       "      <td>145.72</td>\n",
       "      <td>145.82</td>\n",
       "      <td>802</td>\n",
       "      <td>0.04</td>\n",
       "    </tr>\n",
       "    <tr>\n",
       "      <th>2</th>\n",
       "      <td>2017.07.12</td>\n",
       "      <td>19:55</td>\n",
       "      <td>145.82</td>\n",
       "      <td>145.89</td>\n",
       "      <td>145.66</td>\n",
       "      <td>145.77</td>\n",
       "      <td>897</td>\n",
       "      <td>0.05</td>\n",
       "    </tr>\n",
       "    <tr>\n",
       "      <th>3</th>\n",
       "      <td>2017.07.12</td>\n",
       "      <td>20:00</td>\n",
       "      <td>145.74</td>\n",
       "      <td>145.74</td>\n",
       "      <td>145.62</td>\n",
       "      <td>145.62</td>\n",
       "      <td>42</td>\n",
       "      <td>0.12</td>\n",
       "    </tr>\n",
       "    <tr>\n",
       "      <th>4</th>\n",
       "      <td>2017.07.12</td>\n",
       "      <td>20:05</td>\n",
       "      <td>145.66</td>\n",
       "      <td>145.66</td>\n",
       "      <td>145.66</td>\n",
       "      <td>145.66</td>\n",
       "      <td>5</td>\n",
       "      <td>0.00</td>\n",
       "    </tr>\n",
       "  </tbody>\n",
       "</table>\n",
       "</div>"
      ],
      "text/plain": [
       "         date   Time    Open    High     Low   Close  Volume  difference\n",
       "0  2017.07.12  19:45  145.98  146.04  145.83  145.83     808        0.15\n",
       "1  2017.07.12  19:50  145.86  145.94  145.72  145.82     802        0.04\n",
       "2  2017.07.12  19:55  145.82  145.89  145.66  145.77     897        0.05\n",
       "3  2017.07.12  20:00  145.74  145.74  145.62  145.62      42        0.12\n",
       "4  2017.07.12  20:05  145.66  145.66  145.66  145.66       5        0.00"
      ]
     },
     "execution_count": 31,
     "metadata": {},
     "output_type": "execute_result"
    }
   ],
   "source": [
    "apple_5.head()"
   ]
  },
  {
   "cell_type": "code",
   "execution_count": 32,
   "metadata": {},
   "outputs": [
    {
     "data": {
      "text/html": [
       "<div>\n",
       "<style scoped>\n",
       "    .dataframe tbody tr th:only-of-type {\n",
       "        vertical-align: middle;\n",
       "    }\n",
       "\n",
       "    .dataframe tbody tr th {\n",
       "        vertical-align: top;\n",
       "    }\n",
       "\n",
       "    .dataframe thead th {\n",
       "        text-align: right;\n",
       "    }\n",
       "</style>\n",
       "<table border=\"1\" class=\"dataframe\">\n",
       "  <thead>\n",
       "    <tr style=\"text-align: right;\">\n",
       "      <th></th>\n",
       "      <th>Published_date</th>\n",
       "      <th>Title</th>\n",
       "      <th>Text</th>\n",
       "      <th>date</th>\n",
       "      <th>time</th>\n",
       "    </tr>\n",
       "  </thead>\n",
       "  <tbody>\n",
       "    <tr>\n",
       "      <th>0</th>\n",
       "      <td>2017-12-05T02:00:00.000+02:00</td>\n",
       "      <td>UPDATE: Stock market has tax cuts around 50% p...</td>\n",
       "      <td>['A value stock is one that trades at a lower ...</td>\n",
       "      <td>2017-12-05</td>\n",
       "      <td>00:00:00</td>\n",
       "    </tr>\n",
       "    <tr>\n",
       "      <th>1</th>\n",
       "      <td>2017-12-26T01:28:00.000+02:00</td>\n",
       "      <td>Amazon.com (AMZN) Upgraded to “Buy” at Vetr</td>\n",
       "      <td>['Amazon.com (NASDAQ:AMZN) was upgraded by sto...</td>\n",
       "      <td>2017-12-25</td>\n",
       "      <td>23:28:00</td>\n",
       "    </tr>\n",
       "    <tr>\n",
       "      <th>2</th>\n",
       "      <td>2017-12-20T20:37:00.000+02:00</td>\n",
       "      <td>Wednesday Apple Rumors: Universal Apps May Rel...</td>\n",
       "      <td>['TV Sales : Apple TV is now available for pur...</td>\n",
       "      <td>2017-12-20</td>\n",
       "      <td>18:37:00</td>\n",
       "    </tr>\n",
       "    <tr>\n",
       "      <th>3</th>\n",
       "      <td>2017-11-28T16:07:00.000+02:00</td>\n",
       "      <td>MARKET SNAPSHOT: Stocks Look To Test Records A...</td>\n",
       "      <td>[\"Shares in Buffalo Wild Wings Inc.(BWLD) clim...</td>\n",
       "      <td>2017-11-28</td>\n",
       "      <td>14:07:00</td>\n",
       "    </tr>\n",
       "    <tr>\n",
       "      <th>4</th>\n",
       "      <td>2017-12-11T02:00:00.000+02:00</td>\n",
       "      <td>Luxury resort owner admits claim on trees was ...</td>\n",
       "      <td>['This is a big question. What city is better,...</td>\n",
       "      <td>2017-12-11</td>\n",
       "      <td>00:00:00</td>\n",
       "    </tr>\n",
       "  </tbody>\n",
       "</table>\n",
       "</div>"
      ],
      "text/plain": [
       "                  Published_date  \\\n",
       "0  2017-12-05T02:00:00.000+02:00   \n",
       "1  2017-12-26T01:28:00.000+02:00   \n",
       "2  2017-12-20T20:37:00.000+02:00   \n",
       "3  2017-11-28T16:07:00.000+02:00   \n",
       "4  2017-12-11T02:00:00.000+02:00   \n",
       "\n",
       "                                               Title  \\\n",
       "0  UPDATE: Stock market has tax cuts around 50% p...   \n",
       "1        Amazon.com (AMZN) Upgraded to “Buy” at Vetr   \n",
       "2  Wednesday Apple Rumors: Universal Apps May Rel...   \n",
       "3  MARKET SNAPSHOT: Stocks Look To Test Records A...   \n",
       "4  Luxury resort owner admits claim on trees was ...   \n",
       "\n",
       "                                                Text        date      time  \n",
       "0  ['A value stock is one that trades at a lower ...  2017-12-05  00:00:00  \n",
       "1  ['Amazon.com (NASDAQ:AMZN) was upgraded by sto...  2017-12-25  23:28:00  \n",
       "2  ['TV Sales : Apple TV is now available for pur...  2017-12-20  18:37:00  \n",
       "3  [\"Shares in Buffalo Wild Wings Inc.(BWLD) clim...  2017-11-28  14:07:00  \n",
       "4  ['This is a big question. What city is better,...  2017-12-11  00:00:00  "
      ]
     },
     "execution_count": 32,
     "metadata": {},
     "output_type": "execute_result"
    }
   ],
   "source": [
    "news_data.head()"
   ]
  },
  {
   "cell_type": "code",
   "execution_count": 33,
   "metadata": {},
   "outputs": [],
   "source": [
    "time_diff = '04:00:00'"
   ]
  },
  {
   "cell_type": "code",
   "execution_count": 38,
   "metadata": {},
   "outputs": [],
   "source": [
    "news_data['date'] = news_data['date'].astype('datetime64[ns]')\n",
    "apple_5['date'] = apple_5['date'].astype('datetime64[ns]')"
   ]
  },
  {
   "cell_type": "code",
   "execution_count": 42,
   "metadata": {},
   "outputs": [
    {
     "data": {
      "text/plain": [
       "dtype('<M8[ns]')"
      ]
     },
     "execution_count": 42,
     "metadata": {},
     "output_type": "execute_result"
    }
   ],
   "source": [
    "apple_5['date'].dtype"
   ]
  },
  {
   "cell_type": "code",
   "execution_count": 43,
   "metadata": {},
   "outputs": [
    {
     "data": {
      "text/plain": [
       "dtype('<M8[ns]')"
      ]
     },
     "execution_count": 43,
     "metadata": {},
     "output_type": "execute_result"
    }
   ],
   "source": [
    "news_data['date'].dtype"
   ]
  },
  {
   "cell_type": "code",
   "execution_count": 54,
   "metadata": {},
   "outputs": [
    {
     "data": {
      "text/html": [
       "<div>\n",
       "<style scoped>\n",
       "    .dataframe tbody tr th:only-of-type {\n",
       "        vertical-align: middle;\n",
       "    }\n",
       "\n",
       "    .dataframe tbody tr th {\n",
       "        vertical-align: top;\n",
       "    }\n",
       "\n",
       "    .dataframe thead th {\n",
       "        text-align: right;\n",
       "    }\n",
       "</style>\n",
       "<table border=\"1\" class=\"dataframe\">\n",
       "  <thead>\n",
       "    <tr style=\"text-align: right;\">\n",
       "      <th></th>\n",
       "      <th>Published_date</th>\n",
       "      <th>Title</th>\n",
       "      <th>Text</th>\n",
       "      <th>date</th>\n",
       "      <th>time</th>\n",
       "    </tr>\n",
       "  </thead>\n",
       "  <tbody>\n",
       "    <tr>\n",
       "      <th>0</th>\n",
       "      <td>2017-12-05T02:00:00.000+02:00</td>\n",
       "      <td>UPDATE: Stock market has tax cuts around 50% p...</td>\n",
       "      <td>['A value stock is one that trades at a lower ...</td>\n",
       "      <td>2017-12-05</td>\n",
       "      <td>00:00:00</td>\n",
       "    </tr>\n",
       "    <tr>\n",
       "      <th>1</th>\n",
       "      <td>2017-12-26T01:28:00.000+02:00</td>\n",
       "      <td>Amazon.com (AMZN) Upgraded to “Buy” at Vetr</td>\n",
       "      <td>['Amazon.com (NASDAQ:AMZN) was upgraded by sto...</td>\n",
       "      <td>2017-12-25</td>\n",
       "      <td>23:28:00</td>\n",
       "    </tr>\n",
       "    <tr>\n",
       "      <th>2</th>\n",
       "      <td>2017-12-20T20:37:00.000+02:00</td>\n",
       "      <td>Wednesday Apple Rumors: Universal Apps May Rel...</td>\n",
       "      <td>['TV Sales : Apple TV is now available for pur...</td>\n",
       "      <td>2017-12-20</td>\n",
       "      <td>18:37:00</td>\n",
       "    </tr>\n",
       "    <tr>\n",
       "      <th>3</th>\n",
       "      <td>2017-11-28T16:07:00.000+02:00</td>\n",
       "      <td>MARKET SNAPSHOT: Stocks Look To Test Records A...</td>\n",
       "      <td>[\"Shares in Buffalo Wild Wings Inc.(BWLD) clim...</td>\n",
       "      <td>2017-11-28</td>\n",
       "      <td>14:07:00</td>\n",
       "    </tr>\n",
       "    <tr>\n",
       "      <th>4</th>\n",
       "      <td>2017-12-11T02:00:00.000+02:00</td>\n",
       "      <td>Luxury resort owner admits claim on trees was ...</td>\n",
       "      <td>['This is a big question. What city is better,...</td>\n",
       "      <td>2017-12-11</td>\n",
       "      <td>00:00:00</td>\n",
       "    </tr>\n",
       "  </tbody>\n",
       "</table>\n",
       "</div>"
      ],
      "text/plain": [
       "                  Published_date  \\\n",
       "0  2017-12-05T02:00:00.000+02:00   \n",
       "1  2017-12-26T01:28:00.000+02:00   \n",
       "2  2017-12-20T20:37:00.000+02:00   \n",
       "3  2017-11-28T16:07:00.000+02:00   \n",
       "4  2017-12-11T02:00:00.000+02:00   \n",
       "\n",
       "                                               Title  \\\n",
       "0  UPDATE: Stock market has tax cuts around 50% p...   \n",
       "1        Amazon.com (AMZN) Upgraded to “Buy” at Vetr   \n",
       "2  Wednesday Apple Rumors: Universal Apps May Rel...   \n",
       "3  MARKET SNAPSHOT: Stocks Look To Test Records A...   \n",
       "4  Luxury resort owner admits claim on trees was ...   \n",
       "\n",
       "                                                Text       date      time  \n",
       "0  ['A value stock is one that trades at a lower ... 2017-12-05  00:00:00  \n",
       "1  ['Amazon.com (NASDAQ:AMZN) was upgraded by sto... 2017-12-25  23:28:00  \n",
       "2  ['TV Sales : Apple TV is now available for pur... 2017-12-20  18:37:00  \n",
       "3  [\"Shares in Buffalo Wild Wings Inc.(BWLD) clim... 2017-11-28  14:07:00  \n",
       "4  ['This is a big question. What city is better,... 2017-12-11  00:00:00  "
      ]
     },
     "execution_count": 54,
     "metadata": {},
     "output_type": "execute_result"
    }
   ],
   "source": [
    "news_data.head()"
   ]
  },
  {
   "cell_type": "code",
   "execution_count": 68,
   "metadata": {},
   "outputs": [
    {
     "data": {
      "text/plain": [
       "Timestamp('2017-12-31 00:00:00')"
      ]
     },
     "execution_count": 68,
     "metadata": {},
     "output_type": "execute_result"
    }
   ],
   "source": [
    "max(news_data['date'])"
   ]
  },
  {
   "cell_type": "code",
   "execution_count": 69,
   "metadata": {},
   "outputs": [
    {
     "data": {
      "text/plain": [
       "Timestamp('2017-11-09 00:00:00')"
      ]
     },
     "execution_count": 69,
     "metadata": {},
     "output_type": "execute_result"
    }
   ],
   "source": [
    "min(news_data['date'])"
   ]
  },
  {
   "cell_type": "code",
   "execution_count": 74,
   "metadata": {},
   "outputs": [
    {
     "data": {
      "text/plain": [
       "Timestamp('2019-02-01 00:00:00')"
      ]
     },
     "execution_count": 74,
     "metadata": {},
     "output_type": "execute_result"
    }
   ],
   "source": [
    "max(apple_5['date'])"
   ]
  },
  {
   "cell_type": "code",
   "execution_count": 75,
   "metadata": {},
   "outputs": [],
   "source": [
    "w_start = ['00','05','00','00']\n",
    "w_end = ['00','01','00','00']\n",
    "\n",
    "w = [w_start,w_end]"
   ]
  },
  {
   "cell_type": "code",
   "execution_count": 86,
   "metadata": {},
   "outputs": [],
   "source": [
    "def combine(timestamp):\n",
    "    return pd.Timestamp.combine(timestamp[0],timestamp[1])"
   ]
  },
  {
   "cell_type": "code",
   "execution_count": null,
   "metadata": {},
   "outputs": [],
   "source": [
    "def filter_news(ts_min,ts_max,df):\n",
    "    return df[df['timestamp']>=ts_min "
   ]
  },
  {
   "cell_type": "code",
   "execution_count": 84,
   "metadata": {},
   "outputs": [],
   "source": [
    "news_data['timestamp'] = news_data['date'].astype('str')+' '+news_data['time'].astype('str')"
   ]
  }
 ],
 "metadata": {
  "kernelspec": {
   "display_name": "Python 3",
   "language": "python",
   "name": "python3"
  },
  "language_info": {
   "codemirror_mode": {
    "name": "ipython",
    "version": 3
   },
   "file_extension": ".py",
   "mimetype": "text/x-python",
   "name": "python",
   "nbconvert_exporter": "python",
   "pygments_lexer": "ipython3",
   "version": "3.6.8"
  }
 },
 "nbformat": 4,
 "nbformat_minor": 2
}
