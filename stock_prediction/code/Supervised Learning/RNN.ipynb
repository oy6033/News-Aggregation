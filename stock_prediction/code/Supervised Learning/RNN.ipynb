{
 "cells": [
  {
   "cell_type": "code",
   "execution_count": 0,
   "metadata": {
    "colab": {},
    "colab_type": "code",
    "id": "mFSM1QDlI_ix"
   },
   "outputs": [],
   "source": [
    "import pandas as pd\n",
    "company = 'APPLE'\n",
    "time = 1440"
   ]
  },
  {
   "cell_type": "code",
   "execution_count": 0,
   "metadata": {
    "colab": {},
    "colab_type": "code",
    "id": "bt6gZSHyK_9a"
   },
   "outputs": [],
   "source": [
    "df_news = pd.read_csv('/Labeled_news/'+company+'_'+str(time)+'_cleaned_news.csv')"
   ]
  },
  {
   "cell_type": "code",
   "execution_count": 0,
   "metadata": {
    "colab": {},
    "colab_type": "code",
    "id": "JpC1HdoBLOlt"
   },
   "outputs": [],
   "source": [
    "X, y = (df_news['Text'].values, df_news['Positive_Sentiment'].values)"
   ]
  },
  {
   "cell_type": "code",
   "execution_count": 0,
   "metadata": {
    "colab": {},
    "colab_type": "code",
    "id": "Z6quXxIpLlaz"
   },
   "outputs": [],
   "source": [
    "from keras.preprocessing.text import Tokenizer\n",
    "from keras.preprocessing.sequence import pad_sequences\n",
    "tk = Tokenizer(lower = True)\n",
    "tk.fit_on_texts(X)\n",
    "X_seq = tk.texts_to_sequences(X)\n",
    "X_pad = pad_sequences(X_seq, maxlen=100, padding='post')"
   ]
  },
  {
   "cell_type": "code",
   "execution_count": 0,
   "metadata": {
    "colab": {},
    "colab_type": "code",
    "id": "vz6CZjDULnmw"
   },
   "outputs": [],
   "source": [
    "from sklearn.model_selection import train_test_split\n",
    "X_train, X_test, y_train, y_test = train_test_split(X_pad, y, test_size = 0.25, random_state = 1)"
   ]
  },
  {
   "cell_type": "code",
   "execution_count": 0,
   "metadata": {
    "colab": {},
    "colab_type": "code",
    "id": "_uGrGT5iLrB6"
   },
   "outputs": [],
   "source": [
    "batch_size = 64\n",
    "X_train1 = X_train[batch_size:]\n",
    "y_train1 = y_train[batch_size:]\n",
    "X_valid = X_train[:batch_size]\n",
    "y_valid = y_train[:batch_size]"
   ]
  },
  {
   "cell_type": "code",
   "execution_count": 0,
   "metadata": {
    "colab": {},
    "colab_type": "code",
    "id": "_zWDmbiALsym"
   },
   "outputs": [],
   "source": [
    "from keras.models import Sequential\n",
    "from keras.layers import Embedding, LSTM, Dense, Dropout\n",
    "vocabulary_size = len(tk.word_counts.keys())+1\n",
    "max_words = 100\n",
    "embedding_size = 32\n",
    "model = Sequential()\n",
    "model.add(Embedding(vocabulary_size, embedding_size, input_length=max_words))\n",
    "model.add(LSTM(200))\n",
    "model.add(Dense(1, activation='sigmoid'))\n",
    "model.compile(loss='binary_crossentropy', optimizer='adam', metrics=['accuracy'])"
   ]
  },
  {
   "cell_type": "code",
   "execution_count": 0,
   "metadata": {
    "colab": {
     "base_uri": "https://localhost:8080/",
     "height": 224
    },
    "colab_type": "code",
    "id": "0Fa-osqWLu2G",
    "outputId": "cdd82cfa-2ab7-41ce-e043-f70f6d8cd111"
   },
   "outputs": [
    {
     "name": "stdout",
     "output_type": "stream",
     "text": [
      "Train on 9779 samples, validate on 64 samples\n",
      "Epoch 1/10\n",
      "9779/9779 [==============================] - 66s 7ms/step - loss: 0.6834 - acc: 0.5402 - val_loss: 0.6877 - val_acc: 0.5156\n",
      "Epoch 2/10\n",
      "9779/9779 [==============================] - 65s 7ms/step - loss: 0.5929 - acc: 0.6560 - val_loss: 0.6840 - val_acc: 0.5938\n",
      "Epoch 3/10\n",
      "9779/9779 [==============================] - 65s 7ms/step - loss: 0.4851 - acc: 0.7251 - val_loss: 0.7425 - val_acc: 0.5312\n",
      "Epoch 4/10\n",
      "9779/9779 [==============================] - 64s 7ms/step - loss: 0.4112 - acc: 0.7830 - val_loss: 0.6726 - val_acc: 0.5781\n",
      "Epoch 5/10\n",
      "5312/9779 [===============>..............] - ETA: 29s - loss: 0.3574 - acc: 0.8270"
     ]
    }
   ],
   "source": [
    "model.fit(X_train1,y_train1,validation_data = (X_valid,y_valid),batch_size=batch_size,epochs=10)"
   ]
  },
  {
   "cell_type": "code",
   "execution_count": 0,
   "metadata": {
    "colab": {},
    "colab_type": "code",
    "id": "m4N-yZjHLxCQ"
   },
   "outputs": [],
   "source": [
    "scores = model.evaluate(X_test,y_test)"
   ]
  },
  {
   "cell_type": "code",
   "execution_count": 0,
   "metadata": {
    "colab": {},
    "colab_type": "code",
    "id": "5EsEfUzzOhfD"
   },
   "outputs": [],
   "source": [
    "scores"
   ]
  },
  {
   "cell_type": "code",
   "execution_count": 0,
   "metadata": {
    "colab": {},
    "colab_type": "code",
    "id": "5o6Hpr-IPDYr"
   },
   "outputs": [],
   "source": [
    "X_train1"
   ]
  },
  {
   "cell_type": "code",
   "execution_count": 0,
   "metadata": {
    "colab": {},
    "colab_type": "code",
    "id": "lWz7m-hNZZdS"
   },
   "outputs": [],
   "source": [
    "X_pad"
   ]
  },
  {
   "cell_type": "code",
   "execution_count": 0,
   "metadata": {
    "colab": {},
    "colab_type": "code",
    "id": "1NX4DimyZs9f"
   },
   "outputs": [],
   "source": []
  }
 ],
 "metadata": {
  "colab": {
   "name": "Model.ipynb",
   "provenance": [],
   "version": "0.3.2"
  },
  "kernelspec": {
   "display_name": "Python 3",
   "language": "python",
   "name": "python3"
  },
  "language_info": {
   "codemirror_mode": {
    "name": "ipython",
    "version": 3
   },
   "file_extension": ".py",
   "mimetype": "text/x-python",
   "name": "python",
   "nbconvert_exporter": "python",
   "pygments_lexer": "ipython3",
   "version": "3.6.8"
  }
 },
 "nbformat": 4,
 "nbformat_minor": 1
}
