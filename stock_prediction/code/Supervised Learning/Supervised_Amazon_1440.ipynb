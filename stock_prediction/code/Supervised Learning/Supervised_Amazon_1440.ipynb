{
 "cells": [
  {
   "cell_type": "code",
   "execution_count": 1,
   "metadata": {},
   "outputs": [],
   "source": [
    "import pandas as pd\n",
    "import numpy as np\n",
    "import re\n",
    "import string\n",
    "import nltk\n",
    "from nltk.tokenize import word_tokenize\n",
    "from sklearn.feature_extraction.stop_words import ENGLISH_STOP_WORDS\n",
    "from nltk.stem import PorterStemmer\n",
    "from nltk.tokenize import word_tokenize\n",
    "from nltk.stem import WordNetLemmatizer\n",
    "stemmer= PorterStemmer()\n",
    "lemmatizer = WordNetLemmatizer()\n",
    "from gensim.models import FastText\n",
    "from gensim.models import doc2vec\n",
    "from gensim.models import Doc2Vec"
   ]
  },
  {
   "cell_type": "code",
   "execution_count": 2,
   "metadata": {},
   "outputs": [],
   "source": [
    "company ='AMAZON'\n",
    "time = '1440'\n",
    "file =  \"Labeled_news/\"+ company +'_'+  str(time) + \"_labeled_news.csv\"\n",
    "# file = 'D:\\SWM Project\\Labeled_news\\Labeled_news\\    company+'+str(time)+'_labeled_news.csv'"
   ]
  },
  {
   "cell_type": "code",
   "execution_count": 3,
   "metadata": {},
   "outputs": [],
   "source": [
    "from sklearn.model_selection import train_test_split\n",
    "import gensim\n",
    "from sklearn.linear_model import LogisticRegression\n",
    "from gensim.models.doc2vec import TaggedDocument"
   ]
  },
  {
   "cell_type": "code",
   "execution_count": 4,
   "metadata": {},
   "outputs": [],
   "source": [
    "def plot_prec_recall_vs_tresh(precisions, recalls, thresholds):\n",
    "    plt.plot(thresholds, precisions[:-1], 'b--', label='precision')\n",
    "    plt.plot(thresholds, recalls[:-1], 'g--', label = 'recall')\n",
    "    plt.xlabel('Threshold')\n",
    "    plt.legend(loc='upper left')\n",
    "    plt.ylim([0,1])"
   ]
  },
  {
   "cell_type": "code",
   "execution_count": 5,
   "metadata": {},
   "outputs": [
    {
     "data": {
      "text/plain": [
       "<Figure size 1200x400 with 1 Axes>"
      ]
     },
     "metadata": {},
     "output_type": "display_data"
    }
   ],
   "source": [
    "df = pd.read_csv(file)\n",
    "df = df.drop(df[df['Positive_Sentiment'].isnull()].index)\n",
    "df['Text'] = df['Text'].str.lower()\n",
    "df_strip = df[['Text','Positive_Sentiment']]\n",
    "import re\n",
    "import seaborn as sns\n",
    "import matplotlib.pyplot as plt\n",
    "cnt_pro = df_strip['Positive_Sentiment'].value_counts()\n",
    "\n",
    "plt.figure(figsize=(12,4))\n",
    "sns.barplot(cnt_pro.index, cnt_pro.values, alpha=0.8)\n",
    "plt.ylabel('Number of Occurrences', fontsize=12)\n",
    "plt.xlabel('Product', fontsize=12)\n",
    "plt.xticks(rotation=90)\n",
    "plt.show();"
   ]
  },
  {
   "cell_type": "code",
   "execution_count": 6,
   "metadata": {},
   "outputs": [
    {
     "data": {
      "text/plain": [
       "(13093, 2)"
      ]
     },
     "execution_count": 6,
     "metadata": {},
     "output_type": "execute_result"
    }
   ],
   "source": [
    "df_strip.shape"
   ]
  },
  {
   "cell_type": "code",
   "execution_count": 7,
   "metadata": {},
   "outputs": [
    {
     "data": {
      "text/plain": [
       "6777587"
      ]
     },
     "execution_count": 7,
     "metadata": {},
     "output_type": "execute_result"
    }
   ],
   "source": [
    "df_strip.index = range(df_strip.shape[0])\n",
    "df_strip['Text'].apply(lambda x: len(x.split(' '))).sum()"
   ]
  },
  {
   "cell_type": "markdown",
   "metadata": {},
   "source": [
    "# Data cleaning"
   ]
  },
  {
   "cell_type": "code",
   "execution_count": 8,
   "metadata": {},
   "outputs": [],
   "source": [
    "train, test = train_test_split(df_strip, test_size=0.3, random_state=42)\n",
    "\n",
    "import nltk\n",
    "from nltk.corpus import stopwords\n",
    "def tokenize_text(text):\n",
    "    tokens = []\n",
    "    for sent in nltk.sent_tokenize(text):\n",
    "        for word in nltk.word_tokenize(sent):\n",
    "            if len(word) < 2:\n",
    "                continue\n",
    "            tokens.append(word.lower())\n",
    "    return tokens\n",
    "\n",
    "def cleaning(text):\n",
    "    text = re.sub(r'\\d+','', text)\n",
    "    text = text.translate(str.maketrans('','',string.punctuation))\n",
    "    text = text.strip()\n",
    "    tokens = word_tokenize(text)\n",
    "    text_array = [i for i in tokens if not i in ENGLISH_STOP_WORDS]\n",
    "    result =[]\n",
    "    for text in text_array:\n",
    "        result.append(lemmatizer.lemmatize(text))\n",
    "    return result\n",
    "\n",
    "train_tagged = train.apply(\n",
    "    lambda r: TaggedDocument(words=cleaning(r['Text']), tags=[r.Positive_Sentiment]), axis=1)\n",
    "test_tagged = test.apply(\n",
    "    lambda r: TaggedDocument(words=cleaning(r['Text']), tags=[r.Positive_Sentiment]), axis=1)"
   ]
  },
  {
   "cell_type": "markdown",
   "metadata": {},
   "source": [
    "# Building vocabulary"
   ]
  },
  {
   "cell_type": "code",
   "execution_count": 9,
   "metadata": {},
   "outputs": [
    {
     "name": "stderr",
     "output_type": "stream",
     "text": [
      "100%|██████████| 9165/9165 [00:00<00:00, 1543931.09it/s]\n"
     ]
    }
   ],
   "source": [
    "import pandas as pd\n",
    "import numpy as np\n",
    "from tqdm import tqdm\n",
    "tqdm.pandas(desc=\"progress-bar\")\n",
    "from gensim.models import Doc2Vec\n",
    "from sklearn import utils\n",
    "from sklearn.model_selection import train_test_split\n",
    "import gensim\n",
    "from sklearn.linear_model import LogisticRegression\n",
    "from gensim.models.doc2vec import TaggedDocument\n",
    "import re\n",
    "import seaborn as sns\n",
    "import matplotlib.pyplot as plt\n",
    "import multiprocessing\n",
    "cores = multiprocessing.cpu_count()\n",
    "model_dbow = Doc2Vec(dm=0, vector_size=300, negative=5, hs=0, min_count=2, sample = 0, workers=cores)\n",
    "model_dbow.build_vocab([x for x in tqdm(train_tagged.values)])"
   ]
  },
  {
   "cell_type": "code",
   "execution_count": 10,
   "metadata": {},
   "outputs": [
    {
     "name": "stderr",
     "output_type": "stream",
     "text": [
      "100%|██████████| 9165/9165 [00:00<00:00, 969845.50it/s]\n"
     ]
    }
   ],
   "source": [
    "model_dbow = Doc2Vec(dm=0, vector_size=300, negative=5, hs=0, min_count=2, sample = 0, workers=cores)\n",
    "model_dbow.build_vocab([x for x in tqdm(train_tagged.values)])"
   ]
  },
  {
   "cell_type": "code",
   "execution_count": 11,
   "metadata": {},
   "outputs": [
    {
     "name": "stderr",
     "output_type": "stream",
     "text": [
      "100%|██████████| 9165/9165 [00:00<00:00, 987383.03it/s]\n",
      "100%|██████████| 9165/9165 [00:00<00:00, 1940866.21it/s]\n",
      "100%|██████████| 9165/9165 [00:00<00:00, 1689111.35it/s]\n",
      "100%|██████████| 9165/9165 [00:00<00:00, 1950715.32it/s]\n",
      "100%|██████████| 9165/9165 [00:00<00:00, 2059512.25it/s]\n",
      "100%|██████████| 9165/9165 [00:00<00:00, 1246135.77it/s]\n",
      "100%|██████████| 9165/9165 [00:00<00:00, 2137856.41it/s]\n",
      "100%|██████████| 9165/9165 [00:00<00:00, 2170202.46it/s]\n",
      "100%|██████████| 9165/9165 [00:00<00:00, 2218036.82it/s]\n",
      "100%|██████████| 9165/9165 [00:00<00:00, 1362230.98it/s]\n",
      "100%|██████████| 9165/9165 [00:00<00:00, 1990616.55it/s]\n",
      "100%|██████████| 9165/9165 [00:00<00:00, 2170570.08it/s]\n",
      "100%|██████████| 9165/9165 [00:00<00:00, 2224583.11it/s]\n",
      "100%|██████████| 9165/9165 [00:00<00:00, 2050722.65it/s]\n",
      "100%|██████████| 9165/9165 [00:00<00:00, 2116667.37it/s]\n",
      "100%|██████████| 9165/9165 [00:00<00:00, 2115153.30it/s]\n",
      "100%|██████████| 9165/9165 [00:00<00:00, 1565561.46it/s]\n",
      "100%|██████████| 9165/9165 [00:00<00:00, 2197872.85it/s]\n",
      "100%|██████████| 9165/9165 [00:00<00:00, 2056757.42it/s]\n",
      "100%|██████████| 9165/9165 [00:00<00:00, 2126032.64it/s]\n",
      "100%|██████████| 9165/9165 [00:00<00:00, 1925795.11it/s]\n",
      "100%|██████████| 9165/9165 [00:00<00:00, 2126620.72it/s]\n",
      "100%|██████████| 9165/9165 [00:00<00:00, 2218036.82it/s]\n",
      "100%|██████████| 9165/9165 [00:00<00:00, 1107676.24it/s]\n",
      "100%|██████████| 9165/9165 [00:00<00:00, 2102083.24it/s]\n",
      "100%|██████████| 9165/9165 [00:00<00:00, 1284142.18it/s]\n",
      "100%|██████████| 9165/9165 [00:00<00:00, 1854445.28it/s]\n",
      "100%|██████████| 9165/9165 [00:00<00:00, 1105033.38it/s]\n",
      "100%|██████████| 9165/9165 [00:00<00:00, 1306532.40it/s]\n",
      "100%|██████████| 9165/9165 [00:00<00:00, 1309871.41it/s]\n"
     ]
    },
    {
     "name": "stdout",
     "output_type": "stream",
     "text": [
      "CPU times: user 4min 47s, sys: 6.54 s, total: 4min 53s\n",
      "Wall time: 1min 56s\n"
     ]
    }
   ],
   "source": [
    "%%time\n",
    "for epoch in range(30):\n",
    "    model_dbow.train(utils.shuffle([x for x in tqdm(train_tagged.values)]), total_examples=len(train_tagged.values), epochs=1)\n",
    "    model_dbow.alpha -= 0.002\n",
    "    model_dbow.min_alpha = model_dbow.alpha"
   ]
  },
  {
   "cell_type": "code",
   "execution_count": 12,
   "metadata": {},
   "outputs": [],
   "source": [
    "def vec_for_learning(model, tagged_docs):\n",
    "    sents = tagged_docs.values\n",
    "    targets, regressors = zip(*[(doc.tags[0], model.infer_vector(doc.words, steps=20)) for doc in sents])\n",
    "    return targets, regressors"
   ]
  },
  {
   "cell_type": "code",
   "execution_count": 13,
   "metadata": {},
   "outputs": [],
   "source": [
    "from sklearn import preprocessing\n",
    "min_max_scaler = preprocessing.MinMaxScaler()\n",
    "\n",
    "y_train, X_train = vec_for_learning(model_dbow, train_tagged)\n",
    "y_test, X_test = vec_for_learning(model_dbow, test_tagged)"
   ]
  },
  {
   "cell_type": "markdown",
   "metadata": {},
   "source": [
    "## Logistic Regression"
   ]
  },
  {
   "cell_type": "code",
   "execution_count": 14,
   "metadata": {},
   "outputs": [
    {
     "name": "stderr",
     "output_type": "stream",
     "text": [
      "/anaconda2/envs/py36/lib/python3.6/site-packages/sklearn/linear_model/logistic.py:433: FutureWarning: Default solver will be changed to 'lbfgs' in 0.22. Specify a solver to silence this warning.\n",
      "  FutureWarning)\n"
     ]
    },
    {
     "name": "stdout",
     "output_type": "stream",
     "text": [
      "Training accuracy 0.5588652482269504\n",
      "Testing F1 score: 0.5588058131216859\n",
      "Testing accuracy 0.5414969450101833\n",
      "Testing F1 score: 0.5414789629351724\n"
     ]
    }
   ],
   "source": [
    "from sklearn.linear_model import LogisticRegressionCV\n",
    "x_train_scaled = min_max_scaler.fit_transform(X_train)\n",
    "x_test_scaled = min_max_scaler.fit_transform(X_test)\n",
    "\n",
    "logreg = LogisticRegression()\n",
    "clf = LogisticRegression(penalty='l2', dual=False, tol=0.0001, C=1.0, fit_intercept=True, intercept_scaling=1, class_weight=None, random_state=None, solver='warn', max_iter=100, multi_class='warn', verbose=0, warm_start=False, n_jobs=None).fit(X_train,y_train)\n",
    "y_train_pred= clf.predict(X_train)\n",
    "y_pred = clf.predict(X_test)\n",
    "\n",
    "from sklearn.metrics import accuracy_score, f1_score\n",
    "\n",
    "print('Training accuracy %s' % accuracy_score(y_train, y_train_pred))\n",
    "print('Testing F1 score: {}'.format(f1_score(y_train, y_train_pred, average='weighted')))\n",
    "print('Testing accuracy %s' % accuracy_score(y_test, y_pred))\n",
    "print('Testing F1 score: {}'.format(f1_score(y_test, y_pred, average='weighted')))"
   ]
  },
  {
   "cell_type": "code",
   "execution_count": 15,
   "metadata": {},
   "outputs": [
    {
     "data": {
      "text/plain": [
       "<Figure size 432x288 with 0 Axes>"
      ]
     },
     "execution_count": 15,
     "metadata": {},
     "output_type": "execute_result"
    },
    {
     "data": {
      "image/png": "[encoded data removed]",
      "text/plain": [
       "<Figure size 432x288 with 1 Axes>"
      ]
     },
     "metadata": {
      "needs_background": "light"
     },
     "output_type": "display_data"
    },
    {
     "data": {
      "text/plain": [
       "<Figure size 432x288 with 0 Axes>"
      ]
     },
     "metadata": {},
     "output_type": "display_data"
    }
   ],
   "source": [
    "from sklearn.metrics import precision_recall_curve\n",
    "pre, rec, thresholds = precision_recall_curve(y_test, clf.predict_proba(X_test)[:,1])\n",
    "plot_prec_recall_vs_tresh(pre, rec, thresholds)\n",
    "plt.figure()"
   ]
  },
  {
   "cell_type": "markdown",
   "metadata": {},
   "source": [
    "## Random Forest"
   ]
  },
  {
   "cell_type": "code",
   "execution_count": 16,
   "metadata": {},
   "outputs": [
    {
     "name": "stdout",
     "output_type": "stream",
     "text": [
      "Training accuracy 1.0\n",
      "Testing F1 score: 1.0\n",
      "Testing accuracy 0.5791751527494908\n",
      "Testing F1 score: 0.5785652824592664\n"
     ]
    }
   ],
   "source": [
    "from sklearn.ensemble import RandomForestClassifier\n",
    "clf = RandomForestClassifier(random_state=0, n_estimators=100,class_weight='balanced')\n",
    "clf.fit(X_train,y_train)\n",
    "y_train_pred= clf.predict(X_train)\n",
    "y_pred = clf.predict(X_test)\n",
    "\n",
    "from sklearn.metrics import accuracy_score, f1_score\n",
    "\n",
    "print('Training accuracy %s' % accuracy_score(y_train, y_train_pred))\n",
    "print('Testing F1 score: {}'.format(f1_score(y_train, y_train_pred, average='weighted')))\n",
    "print('Testing accuracy %s' % accuracy_score(y_test, y_pred))\n",
    "print('Testing F1 score: {}'.format(f1_score(y_test, y_pred, average='weighted')))"
   ]
  },
  {
   "cell_type": "code",
   "execution_count": 17,
   "metadata": {},
   "outputs": [
    {
     "data": {
      "text/plain": [
       "<Figure size 432x288 with 0 Axes>"
      ]
     },
     "execution_count": 17,
     "metadata": {},
     "output_type": "execute_result"
    },
    {
     "data": {
      "image/png": "[encoded data removed]",
      "text/plain": [
       "<Figure size 432x288 with 1 Axes>"
      ]
     },
     "metadata": {
      "needs_background": "light"
     },
     "output_type": "display_data"
    },
    {
     "data": {
      "text/plain": [
       "<Figure size 432x288 with 0 Axes>"
      ]
     },
     "metadata": {},
     "output_type": "display_data"
    }
   ],
   "source": [
    "from sklearn.metrics import precision_recall_curve\n",
    "pre, rec, thresholds = precision_recall_curve(y_test, clf.predict_proba(X_test)[:,1])\n",
    "plot_prec_recall_vs_tresh(pre, rec, thresholds)\n",
    "plt.figure()"
   ]
  },
  {
   "cell_type": "markdown",
   "metadata": {},
   "source": [
    "## SVM"
   ]
  },
  {
   "cell_type": "code",
   "execution_count": 21,
   "metadata": {},
   "outputs": [
    {
     "data": {
      "text/plain": [
       "0.5392057026476579"
      ]
     },
     "execution_count": 21,
     "metadata": {},
     "output_type": "execute_result"
    }
   ],
   "source": [
    "from sklearn import svm\n",
    "clf = svm.SVC(gamma='scale',probability = True)\n",
    "clf.fit(X_train, y_train) \n",
    "clf.score(X_test,y_test)"
   ]
  },
  {
   "cell_type": "code",
   "execution_count": 23,
   "metadata": {},
   "outputs": [
    {
     "data": {
      "text/plain": [
       "<Figure size 432x288 with 0 Axes>"
      ]
     },
     "execution_count": 23,
     "metadata": {},
     "output_type": "execute_result"
    },
    {
     "data": {
      "image/png": "[encoded data removed]",
      "text/plain": [
       "<Figure size 432x288 with 1 Axes>"
      ]
     },
     "metadata": {
      "needs_background": "light"
     },
     "output_type": "display_data"
    },
    {
     "data": {
      "text/plain": [
       "<Figure size 432x288 with 0 Axes>"
      ]
     },
     "metadata": {},
     "output_type": "display_data"
    }
   ],
   "source": [
    "from sklearn.metrics import precision_recall_curve\n",
    "pre, rec, thresholds = precision_recall_curve(y_test, clf.predict_proba(X_test)[:,1])\n",
    "plot_prec_recall_vs_tresh(pre, rec, thresholds)\n",
    "plt.figure()"
   ]
  },
  {
   "cell_type": "code",
   "execution_count": 24,
   "metadata": {},
   "outputs": [
    {
     "name": "stderr",
     "output_type": "stream",
     "text": [
      "100%|██████████| 9165/9165 [00:00<00:00, 405818.97it/s]\n"
     ]
    }
   ],
   "source": [
    "model_dmm = Doc2Vec(dm=1, dm_mean=1, vector_size=300, window=10, negative=5, min_count=1, workers=5, alpha=0.065, min_alpha=0.065)\n",
    "model_dmm.build_vocab([x for x in tqdm(train_tagged.values)])"
   ]
  },
  {
   "cell_type": "code",
   "execution_count": 25,
   "metadata": {},
   "outputs": [
    {
     "name": "stderr",
     "output_type": "stream",
     "text": [
      "100%|██████████| 9165/9165 [00:00<00:00, 774719.28it/s]\n",
      "100%|██████████| 9165/9165 [00:00<00:00, 2043093.07it/s]\n",
      "100%|██████████| 9165/9165 [00:00<00:00, 1511394.05it/s]\n",
      "100%|██████████| 9165/9165 [00:00<00:00, 2015139.24it/s]\n",
      "100%|██████████| 9165/9165 [00:00<00:00, 1627330.29it/s]\n",
      "100%|██████████| 9165/9165 [00:00<00:00, 1988968.60it/s]\n",
      "100%|██████████| 9165/9165 [00:00<00:00, 2030466.73it/s]\n",
      "100%|██████████| 9165/9165 [00:00<00:00, 2151858.27it/s]\n",
      "100%|██████████| 9165/9165 [00:00<00:00, 1911431.36it/s]\n",
      "100%|██████████| 9165/9165 [00:00<00:00, 2153425.36it/s]\n",
      "100%|██████████| 9165/9165 [00:00<00:00, 1965476.85it/s]\n",
      "100%|██████████| 9165/9165 [00:00<00:00, 1895502.77it/s]\n",
      "100%|██████████| 9165/9165 [00:00<00:00, 2170202.46it/s]\n",
      "100%|██████████| 9165/9165 [00:00<00:00, 1686221.70it/s]\n",
      "100%|██████████| 9165/9165 [00:00<00:00, 1732894.39it/s]\n",
      "100%|██████████| 9165/9165 [00:00<00:00, 1360399.06it/s]\n",
      "100%|██████████| 9165/9165 [00:00<00:00, 2149451.81it/s]\n",
      "100%|██████████| 9165/9165 [00:00<00:00, 2047445.87it/s]\n",
      "100%|██████████| 9165/9165 [00:00<00:00, 1723107.09it/s]\n",
      "100%|██████████| 9165/9165 [00:00<00:00, 1602033.60it/s]\n",
      "100%|██████████| 9165/9165 [00:00<00:00, 1695069.94it/s]\n",
      "100%|██████████| 9165/9165 [00:00<00:00, 1578223.76it/s]\n",
      "100%|██████████| 9165/9165 [00:00<00:00, 1867417.84it/s]\n",
      "100%|██████████| 9165/9165 [00:00<00:00, 2116667.37it/s]\n",
      "100%|██████████| 9165/9165 [00:00<00:00, 1657073.72it/s]\n",
      "100%|██████████| 9165/9165 [00:00<00:00, 1262174.81it/s]\n",
      "100%|██████████| 9165/9165 [00:00<00:00, 1639825.79it/s]\n",
      "100%|██████████| 9165/9165 [00:00<00:00, 2139284.11it/s]\n",
      "100%|██████████| 9165/9165 [00:00<00:00, 1971019.65it/s]\n",
      "100%|██████████| 9165/9165 [00:00<00:00, 1368730.50it/s]\n"
     ]
    },
    {
     "name": "stdout",
     "output_type": "stream",
     "text": [
      "CPU times: user 7min 38s, sys: 10.6 s, total: 7min 49s\n",
      "Wall time: 3min 1s\n"
     ]
    }
   ],
   "source": [
    "%%time\n",
    "for epoch in range(30):\n",
    "    model_dmm.train(utils.shuffle([x for x in tqdm(train_tagged.values)]), total_examples=len(train_tagged.values), epochs=1)\n",
    "    model_dmm.alpha -= 0.002\n",
    "    model_dmm.min_alpha = model_dmm.alpha"
   ]
  },
  {
   "cell_type": "markdown",
   "metadata": {},
   "source": [
    "# Distributed Memory(DM)"
   ]
  },
  {
   "cell_type": "code",
   "execution_count": 26,
   "metadata": {},
   "outputs": [],
   "source": [
    "y_train, X_train = vec_for_learning(model_dmm, train_tagged)\n",
    "y_test, X_test = vec_for_learning(model_dmm, test_tagged)"
   ]
  },
  {
   "cell_type": "markdown",
   "metadata": {},
   "source": [
    "## Logistic Regression"
   ]
  },
  {
   "cell_type": "code",
   "execution_count": 27,
   "metadata": {},
   "outputs": [
    {
     "name": "stderr",
     "output_type": "stream",
     "text": [
      "/anaconda2/envs/py36/lib/python3.6/site-packages/sklearn/linear_model/logistic.py:433: FutureWarning: Default solver will be changed to 'lbfgs' in 0.22. Specify a solver to silence this warning.\n",
      "  FutureWarning)\n"
     ]
    },
    {
     "name": "stdout",
     "output_type": "stream",
     "text": [
      "Training accuracy 0.7203491543917075\n",
      "Testing F1 score: 0.7203447597031026\n",
      "Testing accuracy 0.5829938900203666\n",
      "Testing F1 score: 0.5810258196406798\n"
     ]
    }
   ],
   "source": [
    "from sklearn.linear_model import LogisticRegressionCV\n",
    "x_train_scaled = min_max_scaler.fit_transform(X_train)\n",
    "x_test_scaled = min_max_scaler.fit_transform(X_test)\n",
    "\n",
    "logreg = LogisticRegression()\n",
    "clf = LogisticRegression(penalty='l2', dual=False, tol=0.0001, C=1.0, fit_intercept=True, intercept_scaling=1, class_weight=None, random_state=None, solver='warn', max_iter=100, multi_class='warn', verbose=0, warm_start=False, n_jobs=None).fit(X_train,y_train)\n",
    "y_train_pred= clf.predict(X_train)\n",
    "y_pred = clf.predict(X_test)\n",
    "\n",
    "from sklearn.metrics import accuracy_score, f1_score\n",
    "\n",
    "print('Training accuracy %s' % accuracy_score(y_train, y_train_pred))\n",
    "print('Testing F1 score: {}'.format(f1_score(y_train, y_train_pred, average='weighted')))\n",
    "print('Testing accuracy %s' % accuracy_score(y_test, y_pred))\n",
    "print('Testing F1 score: {}'.format(f1_score(y_test, y_pred, average='weighted')))"
   ]
  },
  {
   "cell_type": "code",
   "execution_count": 28,
   "metadata": {},
   "outputs": [
    {
     "data": {
      "text/plain": [
       "<Figure size 432x288 with 0 Axes>"
      ]
     },
     "execution_count": 28,
     "metadata": {},
     "output_type": "execute_result"
    },
    {
     "data": {
      "image/png": "[encoded data removed]",
      "text/plain": [
       "<Figure size 432x288 with 1 Axes>"
      ]
     },
     "metadata": {
      "needs_background": "light"
     },
     "output_type": "display_data"
    },
    {
     "data": {
      "text/plain": [
       "<Figure size 432x288 with 0 Axes>"
      ]
     },
     "metadata": {},
     "output_type": "display_data"
    }
   ],
   "source": [
    "from sklearn.metrics import precision_recall_curve\n",
    "pre, rec, thresholds = precision_recall_curve(y_test, clf.predict_proba(X_test)[:,1])\n",
    "plot_prec_recall_vs_tresh(pre, rec, thresholds)\n",
    "plt.figure()"
   ]
  },
  {
   "cell_type": "markdown",
   "metadata": {},
   "source": [
    "## Random Forest"
   ]
  },
  {
   "cell_type": "code",
   "execution_count": 29,
   "metadata": {},
   "outputs": [
    {
     "name": "stdout",
     "output_type": "stream",
     "text": [
      "Training accuracy 1.0\n",
      "Testing F1 score: 1.0\n",
      "Testing accuracy 0.5929226069246436\n",
      "Testing F1 score: 0.5901615022304395\n"
     ]
    }
   ],
   "source": [
    "from sklearn.ensemble import RandomForestClassifier\n",
    "clf = RandomForestClassifier(random_state=0, n_estimators=100,class_weight='balanced')\n",
    "clf.fit(X_train,y_train)\n",
    "y_train_pred= clf.predict(X_train)\n",
    "y_pred = clf.predict(X_test)\n",
    "\n",
    "from sklearn.metrics import accuracy_score, f1_score\n",
    "\n",
    "print('Training accuracy %s' % accuracy_score(y_train, y_train_pred))\n",
    "print('Testing F1 score: {}'.format(f1_score(y_train, y_train_pred, average='weighted')))\n",
    "print('Testing accuracy %s' % accuracy_score(y_test, y_pred))\n",
    "print('Testing F1 score: {}'.format(f1_score(y_test, y_pred, average='weighted')))"
   ]
  },
  {
   "cell_type": "code",
   "execution_count": 30,
   "metadata": {},
   "outputs": [
    {
     "data": {
      "text/plain": [
       "<Figure size 432x288 with 0 Axes>"
      ]
     },
     "execution_count": 30,
     "metadata": {},
     "output_type": "execute_result"
    },
    {
     "data": {
      "image/png": "[encoded data removed]",
      "text/plain": [
       "<Figure size 432x288 with 1 Axes>"
      ]
     },
     "metadata": {
      "needs_background": "light"
     },
     "output_type": "display_data"
    },
    {
     "data": {
      "text/plain": [
       "<Figure size 432x288 with 0 Axes>"
      ]
     },
     "metadata": {},
     "output_type": "display_data"
    }
   ],
   "source": [
    "from sklearn.metrics import precision_recall_curve\n",
    "pre, rec, thresholds = precision_recall_curve(y_test, clf.predict_proba(X_test)[:,1])\n",
    "plot_prec_recall_vs_tresh(pre, rec, thresholds)\n",
    "plt.figure()"
   ]
  },
  {
   "cell_type": "markdown",
   "metadata": {},
   "source": [
    "## SVM"
   ]
  },
  {
   "cell_type": "code",
   "execution_count": 31,
   "metadata": {},
   "outputs": [
    {
     "data": {
      "text/plain": [
       "0.5618635437881874"
      ]
     },
     "execution_count": 31,
     "metadata": {},
     "output_type": "execute_result"
    }
   ],
   "source": [
    "from sklearn import svm\n",
    "clf = svm.SVC(gamma='scale',probability=True)\n",
    "clf.fit(X_train, y_train) \n",
    "clf.score(X_test,y_test)"
   ]
  },
  {
   "cell_type": "code",
   "execution_count": 32,
   "metadata": {},
   "outputs": [
    {
     "data": {
      "text/plain": [
       "<Figure size 432x288 with 0 Axes>"
      ]
     },
     "execution_count": 32,
     "metadata": {},
     "output_type": "execute_result"
    },
    {
     "data": {
      "image/png": "[encoded data removed]",
      "text/plain": [
       "<Figure size 432x288 with 1 Axes>"
      ]
     },
     "metadata": {
      "needs_background": "light"
     },
     "output_type": "display_data"
    },
    {
     "data": {
      "text/plain": [
       "<Figure size 432x288 with 0 Axes>"
      ]
     },
     "metadata": {},
     "output_type": "display_data"
    }
   ],
   "source": [
    "from sklearn.metrics import precision_recall_curve\n",
    "pre, rec, thresholds = precision_recall_curve(y_test, clf.predict_proba(X_test)[:,1])\n",
    "plot_prec_recall_vs_tresh(pre, rec, thresholds)\n",
    "plt.figure()"
   ]
  },
  {
   "cell_type": "code",
   "execution_count": null,
   "metadata": {},
   "outputs": [],
   "source": []
  }
 ],
 "metadata": {
  "kernelspec": {
   "display_name": "Python 3",
   "language": "python",
   "name": "python3"
  },
  "language_info": {
   "codemirror_mode": {
    "name": "ipython",
    "version": 3
   },
   "file_extension": ".py",
   "mimetype": "text/x-python",
   "name": "python",
   "nbconvert_exporter": "python",
   "pygments_lexer": "ipython3",
   "version": "3.6.8"
  }
 },
 "nbformat": 4,
 "nbformat_minor": 2
}
