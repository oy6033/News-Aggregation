{
 "cells": [
  {
   "cell_type": "code",
   "execution_count": 1,
   "metadata": {},
   "outputs": [
    {
     "name": "stderr",
     "output_type": "stream",
     "text": [
      "C:\\Users\\gokul\\Anaconda3\\lib\\site-packages\\gensim\\utils.py:1197: UserWarning: detected Windows; aliasing chunkize to chunkize_serial\n",
      "  warnings.warn(\"detected Windows; aliasing chunkize to chunkize_serial\")\n"
     ]
    }
   ],
   "source": [
    "import pandas as pd\n",
    "import numpy as np\n",
    "import re\n",
    "import string\n",
    "import nltk\n",
    "from nltk.tokenize import word_tokenize\n",
    "from sklearn.feature_extraction.stop_words import ENGLISH_STOP_WORDS\n",
    "from nltk.stem import PorterStemmer\n",
    "from nltk.tokenize import word_tokenize\n",
    "from nltk.stem import WordNetLemmatizer\n",
    "stemmer= PorterStemmer()\n",
    "lemmatizer = WordNetLemmatizer()\n",
    "from gensim.models import FastText\n",
    "from gensim.models import doc2vec\n",
    "from gensim.models import Doc2Vec"
   ]
  },
  {
   "cell_type": "code",
   "execution_count": 2,
   "metadata": {},
   "outputs": [],
   "source": [
    "company ='APPLE'\n",
    "time = '240'\n",
    "# file =  \"Labeled_news/\"+ company +'_'+  str(time) + \"_labeled_news.csv\"\n",
    "file = \"D:\\SWM Project\\Labeled_news\\Labeled_news\\\\\" + company +'_'+  str(time) + \"_labeled_news.csv\""
   ]
  },
  {
   "cell_type": "code",
   "execution_count": 3,
   "metadata": {},
   "outputs": [],
   "source": [
    "from sklearn.model_selection import train_test_split\n",
    "import gensim\n",
    "from sklearn.linear_model import LogisticRegression\n",
    "from gensim.models.doc2vec import TaggedDocument"
   ]
  },
  {
   "cell_type": "code",
   "execution_count": 4,
   "metadata": {},
   "outputs": [],
   "source": [
    "def plot_prec_recall_vs_tresh(precisions, recalls, thresholds):\n",
    "    plt.plot(thresholds, precisions[:-1], 'b--', label='precision')\n",
    "    plt.plot(thresholds, recalls[:-1], 'g--', label = 'recall')\n",
    "    plt.xlabel('Threshold')\n",
    "    plt.legend(loc='upper left')\n",
    "    plt.ylim([0,1])"
   ]
  },
  {
   "cell_type": "code",
   "execution_count": 5,
   "metadata": {},
   "outputs": [
    {
     "data": {
      "text/plain": [
       "<Figure size 1200x400 with 1 Axes>"
      ]
     },
     "metadata": {},
     "output_type": "display_data"
    }
   ],
   "source": [
    "df = pd.read_csv(file)\n",
    "df = df.drop(df[df['Positive_Sentiment'].isnull()].index)\n",
    "df['Text'] = df['Text'].str.lower()\n",
    "df_strip = df[['Text','Positive_Sentiment']]\n",
    "import re\n",
    "import seaborn as sns\n",
    "import matplotlib.pyplot as plt\n",
    "cnt_pro = df_strip['Positive_Sentiment'].value_counts()\n",
    "\n",
    "plt.figure(figsize=(12,4))\n",
    "sns.barplot(cnt_pro.index, cnt_pro.values, alpha=0.8)\n",
    "plt.ylabel('Number of Occurrences', fontsize=12)\n",
    "plt.xlabel('Product', fontsize=12)\n",
    "plt.xticks(rotation=90)\n",
    "plt.show();"
   ]
  },
  {
   "cell_type": "code",
   "execution_count": 6,
   "metadata": {},
   "outputs": [
    {
     "data": {
      "text/plain": [
       "(13104, 2)"
      ]
     },
     "execution_count": 6,
     "metadata": {},
     "output_type": "execute_result"
    }
   ],
   "source": [
    "df_strip.shape"
   ]
  },
  {
   "cell_type": "code",
   "execution_count": 7,
   "metadata": {},
   "outputs": [
    {
     "data": {
      "text/plain": [
       "6781916"
      ]
     },
     "execution_count": 7,
     "metadata": {},
     "output_type": "execute_result"
    }
   ],
   "source": [
    "df_strip.index = range(df_strip.shape[0])\n",
    "df_strip['Text'].apply(lambda x: len(x.split(' '))).sum()"
   ]
  },
  {
   "cell_type": "markdown",
   "metadata": {},
   "source": [
    "# Data cleaning"
   ]
  },
  {
   "cell_type": "code",
   "execution_count": 8,
   "metadata": {},
   "outputs": [],
   "source": [
    "train, test = train_test_split(df_strip, test_size=0.3, random_state=42)\n",
    "\n",
    "import nltk\n",
    "from nltk.corpus import stopwords\n",
    "def tokenize_text(text):\n",
    "    tokens = []\n",
    "    for sent in nltk.sent_tokenize(text):\n",
    "        for word in nltk.word_tokenize(sent):\n",
    "            if len(word) < 2:\n",
    "                continue\n",
    "            tokens.append(word.lower())\n",
    "    return tokens\n",
    "\n",
    "def cleaning(text):\n",
    "    text = re.sub(r'\\d+','', text)\n",
    "    text = text.translate(str.maketrans('','',string.punctuation))\n",
    "    text = text.strip()\n",
    "    tokens = word_tokenize(text)\n",
    "    text_array = [i for i in tokens if not i in ENGLISH_STOP_WORDS]\n",
    "    result =[]\n",
    "    for text in text_array:\n",
    "        result.append(lemmatizer.lemmatize(text))\n",
    "    return result\n",
    "\n",
    "train_tagged = train.apply(\n",
    "    lambda r: TaggedDocument(words=cleaning(r['Text']), tags=[r.Positive_Sentiment]), axis=1)\n",
    "test_tagged = test.apply(\n",
    "    lambda r: TaggedDocument(words=cleaning(r['Text']), tags=[r.Positive_Sentiment]), axis=1)"
   ]
  },
  {
   "cell_type": "markdown",
   "metadata": {},
   "source": [
    "# Building vocabulary"
   ]
  },
  {
   "cell_type": "code",
   "execution_count": 9,
   "metadata": {},
   "outputs": [
    {
     "name": "stderr",
     "output_type": "stream",
     "text": [
      "100%|█████████████████████████████████████████████████████████████████████████| 9172/9172 [00:00<00:00, 3066328.41it/s]\n"
     ]
    }
   ],
   "source": [
    "import pandas as pd\n",
    "import numpy as np\n",
    "from tqdm import tqdm\n",
    "tqdm.pandas(desc=\"progress-bar\")\n",
    "from gensim.models import Doc2Vec\n",
    "from sklearn import utils\n",
    "from sklearn.model_selection import train_test_split\n",
    "import gensim\n",
    "from sklearn.linear_model import LogisticRegression\n",
    "from gensim.models.doc2vec import TaggedDocument\n",
    "import re\n",
    "import seaborn as sns\n",
    "import matplotlib.pyplot as plt\n",
    "import multiprocessing\n",
    "cores = multiprocessing.cpu_count()\n",
    "model_dbow = Doc2Vec(dm=0, vector_size=300, negative=5, hs=0, min_count=2, sample = 0, workers=cores)\n",
    "model_dbow.build_vocab([x for x in tqdm(train_tagged.values)])"
   ]
  },
  {
   "cell_type": "code",
   "execution_count": 10,
   "metadata": {},
   "outputs": [
    {
     "name": "stderr",
     "output_type": "stream",
     "text": [
      "100%|█████████████████████████████████████████████████████████████████████████| 9172/9172 [00:00<00:00, 4561318.03it/s]\n"
     ]
    }
   ],
   "source": [
    "model_dbow = Doc2Vec(dm=0, vector_size=300, negative=5, hs=0, min_count=2, sample = 0, workers=cores)\n",
    "model_dbow.build_vocab([x for x in tqdm(train_tagged.values)])"
   ]
  },
  {
   "cell_type": "code",
   "execution_count": 11,
   "metadata": {},
   "outputs": [
    {
     "name": "stderr",
     "output_type": "stream",
     "text": [
      "100%|█████████████████████████████████████████████████████████████████████████| 9172/9172 [00:00<00:00, 3103683.44it/s]\n",
      "100%|█████████████████████████████████████████████████████████████████████████| 9172/9172 [00:00<00:00, 4597843.47it/s]\n",
      "100%|█████████████████████████████████████████████████████████████████████████| 9172/9172 [00:00<00:00, 4597843.47it/s]\n",
      "100%|█████████████████████████████████████████████████████████████████████████| 9172/9172 [00:00<00:00, 3065106.87it/s]\n",
      "100%|█████████████████████████████████████████████████████████████████████████| 9172/9172 [00:00<00:00, 3065351.10it/s]\n",
      "100%|█████████████████████████████████████████████████████████████████████████| 9172/9172 [00:00<00:00, 3064862.67it/s]\n",
      "100%|█████████████████████████████████████████████████████████████████████████| 9172/9172 [00:00<00:00, 4598942.77it/s]\n",
      "100%|█████████████████████████████████████████████████████████████████████████| 9172/9172 [00:00<00:00, 4597843.47it/s]\n",
      "100%|█████████████████████████████████████████████████████████████████████████| 9172/9172 [00:00<00:00, 3065839.68it/s]\n",
      "100%|█████████████████████████████████████████████████████████████████████████| 9172/9172 [00:00<00:00, 3065595.37it/s]\n",
      "100%|█████████████████████████████████████████████████████████████████████████| 9172/9172 [00:00<00:00, 3065351.10it/s]\n",
      "100%|█████████████████████████████████████████████████████████████████████████| 9172/9172 [00:00<00:00, 3065839.68it/s]\n",
      "100%|█████████████████████████████████████████████████████████████████████████| 9172/9172 [00:00<00:00, 4597843.47it/s]\n",
      "100%|█████████████████████████████████████████████████████████████████████████| 9172/9172 [00:00<00:00, 3065595.37it/s]\n",
      "100%|█████████████████████████████████████████████████████████████████████████| 9172/9172 [00:00<00:00, 3065839.68it/s]\n",
      "100%|█████████████████████████████████████████████████████████████████████████| 9172/9172 [00:00<00:00, 3066084.03it/s]\n",
      "100%|█████████████████████████████████████████████████████████████████████████| 9172/9172 [00:00<00:00, 3065595.37it/s]\n",
      "100%|█████████████████████████████████████████████████████████████████████████| 9172/9172 [00:00<00:00, 3065595.37it/s]\n",
      "100%|█████████████████████████████████████████████████████████████████████████| 9172/9172 [00:00<00:00, 3065106.87it/s]\n",
      "100%|█████████████████████████████████████████████████████████████████████████| 9172/9172 [00:00<00:00, 3065839.68it/s]\n",
      "100%|█████████████████████████████████████████████████████████████████████████| 9172/9172 [00:00<00:00, 3065839.68it/s]\n",
      "100%|█████████████████████████████████████████████████████████████████████████| 9172/9172 [00:00<00:00, 3064618.52it/s]\n",
      "100%|█████████████████████████████████████████████████████████████████████████| 9172/9172 [00:00<00:00, 3064862.67it/s]\n",
      "100%|█████████████████████████████████████████████████████████████████████████| 9172/9172 [00:00<00:00, 3065595.37it/s]\n",
      "100%|█████████████████████████████████████████████████████████████████████████| 9172/9172 [00:00<00:00, 3066817.31it/s]\n",
      "100%|█████████████████████████████████████████████████████████████████████████| 9172/9172 [00:00<00:00, 3064862.67it/s]\n",
      "100%|█████████████████████████████████████████████████████████████████████████| 9172/9172 [00:00<00:00, 3065351.10it/s]\n",
      "100%|█████████████████████████████████████████████████████████████████████████| 9172/9172 [00:00<00:00, 4597843.47it/s]\n",
      "100%|█████████████████████████████████████████████████████████████████████████| 9172/9172 [00:00<00:00, 3065839.68it/s]\n",
      "100%|█████████████████████████████████████████████████████████████████████████| 9172/9172 [00:00<00:00, 3065351.10it/s]\n"
     ]
    },
    {
     "name": "stdout",
     "output_type": "stream",
     "text": [
      "Wall time: 35.2 s\n"
     ]
    }
   ],
   "source": [
    "%%time\n",
    "for epoch in range(30):\n",
    "    model_dbow.train(utils.shuffle([x for x in tqdm(train_tagged.values)]), total_examples=len(train_tagged.values), epochs=1)\n",
    "    model_dbow.alpha -= 0.002\n",
    "    model_dbow.min_alpha = model_dbow.alpha"
   ]
  },
  {
   "cell_type": "code",
   "execution_count": 12,
   "metadata": {},
   "outputs": [],
   "source": [
    "def vec_for_learning(model, tagged_docs):\n",
    "    sents = tagged_docs.values\n",
    "    targets, regressors = zip(*[(doc.tags[0], model.infer_vector(doc.words, steps=20)) for doc in sents])\n",
    "    return targets, regressors"
   ]
  },
  {
   "cell_type": "code",
   "execution_count": 13,
   "metadata": {},
   "outputs": [],
   "source": [
    "from sklearn import preprocessing\n",
    "min_max_scaler = preprocessing.MinMaxScaler()\n",
    "\n",
    "y_train, X_train = vec_for_learning(model_dbow, train_tagged)\n",
    "y_test, X_test = vec_for_learning(model_dbow, test_tagged)"
   ]
  },
  {
   "cell_type": "markdown",
   "metadata": {},
   "source": [
    "## Logistic Regression"
   ]
  },
  {
   "cell_type": "code",
   "execution_count": 14,
   "metadata": {},
   "outputs": [
    {
     "name": "stderr",
     "output_type": "stream",
     "text": [
      "C:\\Users\\gokul\\Anaconda3\\lib\\site-packages\\sklearn\\linear_model\\logistic.py:433: FutureWarning: Default solver will be changed to 'lbfgs' in 0.22. Specify a solver to silence this warning.\n",
      "  FutureWarning)\n"
     ]
    },
    {
     "name": "stdout",
     "output_type": "stream",
     "text": [
      "Training accuracy 0.7896860008722199\n",
      "Testing F1 score: 0.7896758101518356\n",
      "Testing accuracy 0.6187690742624619\n",
      "Testing F1 score: 0.6185655007626841\n"
     ]
    }
   ],
   "source": [
    "from sklearn.linear_model import LogisticRegressionCV\n",
    "x_train_scaled = min_max_scaler.fit_transform(X_train)\n",
    "x_test_scaled = min_max_scaler.fit_transform(X_test)\n",
    "\n",
    "logreg = LogisticRegression()\n",
    "clf = LogisticRegression(penalty='l2', dual=False, tol=0.0001, C=1.0, fit_intercept=True, intercept_scaling=1, class_weight=None, random_state=None, solver='warn', max_iter=100, multi_class='warn', verbose=0, warm_start=False, n_jobs=None).fit(X_train,y_train)\n",
    "y_train_pred= clf.predict(X_train)\n",
    "y_pred = clf.predict(X_test)\n",
    "\n",
    "from sklearn.metrics import accuracy_score, f1_score\n",
    "\n",
    "print('Training accuracy %s' % accuracy_score(y_train, y_train_pred))\n",
    "print('Testing F1 score: {}'.format(f1_score(y_train, y_train_pred, average='weighted')))\n",
    "print('Testing accuracy %s' % accuracy_score(y_test, y_pred))\n",
    "print('Testing F1 score: {}'.format(f1_score(y_test, y_pred, average='weighted')))"
   ]
  },
  {
   "cell_type": "code",
   "execution_count": 15,
   "metadata": {},
   "outputs": [
    {
     "data": {
      "text/plain": [
       "<Figure size 432x288 with 0 Axes>"
      ]
     },
     "execution_count": 15,
     "metadata": {},
     "output_type": "execute_result"
    },
    {
     "data": {
      "image/png": "[encoded data removed]",
      "text/plain": [
       "<Figure size 432x288 with 1 Axes>"
      ]
     },
     "metadata": {
      "needs_background": "light"
     },
     "output_type": "display_data"
    },
    {
     "data": {
      "text/plain": [
       "<Figure size 432x288 with 0 Axes>"
      ]
     },
     "metadata": {},
     "output_type": "display_data"
    }
   ],
   "source": [
    "from sklearn.metrics import precision_recall_curve\n",
    "pre, rec, thresholds = precision_recall_curve(y_test, clf.predict_proba(X_test)[:,1])\n",
    "plot_prec_recall_vs_tresh(pre, rec, thresholds)\n",
    "plt.figure()"
   ]
  },
  {
   "cell_type": "markdown",
   "metadata": {},
   "source": [
    "## Random Forest"
   ]
  },
  {
   "cell_type": "code",
   "execution_count": 16,
   "metadata": {},
   "outputs": [
    {
     "name": "stdout",
     "output_type": "stream",
     "text": [
      "Training accuracy 1.0\n",
      "Testing F1 score: 1.0\n",
      "Testing accuracy 0.6279247202441506\n",
      "Testing F1 score: 0.6274133821949751\n"
     ]
    }
   ],
   "source": [
    "from sklearn.ensemble import RandomForestClassifier\n",
    "clf = RandomForestClassifier(random_state=0, n_estimators=100,class_weight='balanced')\n",
    "clf.fit(X_train,y_train)\n",
    "y_train_pred= clf.predict(X_train)\n",
    "y_pred = clf.predict(X_test)\n",
    "\n",
    "from sklearn.metrics import accuracy_score, f1_score\n",
    "\n",
    "print('Training accuracy %s' % accuracy_score(y_train, y_train_pred))\n",
    "print('Testing F1 score: {}'.format(f1_score(y_train, y_train_pred, average='weighted')))\n",
    "print('Testing accuracy %s' % accuracy_score(y_test, y_pred))\n",
    "print('Testing F1 score: {}'.format(f1_score(y_test, y_pred, average='weighted')))"
   ]
  },
  {
   "cell_type": "code",
   "execution_count": 17,
   "metadata": {},
   "outputs": [
    {
     "data": {
      "text/plain": [
       "<Figure size 432x288 with 0 Axes>"
      ]
     },
     "execution_count": 17,
     "metadata": {},
     "output_type": "execute_result"
    },
    {
     "data": {
      "image/png": "[encoded data removed]",
      "text/plain": [
       "<Figure size 432x288 with 1 Axes>"
      ]
     },
     "metadata": {
      "needs_background": "light"
     },
     "output_type": "display_data"
    },
    {
     "data": {
      "text/plain": [
       "<Figure size 432x288 with 0 Axes>"
      ]
     },
     "metadata": {},
     "output_type": "display_data"
    }
   ],
   "source": [
    "from sklearn.metrics import precision_recall_curve\n",
    "pre, rec, thresholds = precision_recall_curve(y_test, clf.predict_proba(X_test)[:,1])\n",
    "plot_prec_recall_vs_tresh(pre, rec, thresholds)\n",
    "plt.figure()"
   ]
  },
  {
   "cell_type": "markdown",
   "metadata": {},
   "source": [
    "## SVM"
   ]
  },
  {
   "cell_type": "code",
   "execution_count": 18,
   "metadata": {},
   "outputs": [
    {
     "data": {
      "text/plain": [
       "0.6195320447609359"
      ]
     },
     "execution_count": 18,
     "metadata": {},
     "output_type": "execute_result"
    }
   ],
   "source": [
    "from sklearn import svm\n",
    "clf = svm.SVC(gamma='scale',probability=True)\n",
    "clf.fit(X_train, y_train) \n",
    "clf.score(X_test,y_test)"
   ]
  },
  {
   "cell_type": "code",
   "execution_count": 19,
   "metadata": {},
   "outputs": [
    {
     "data": {
      "text/plain": [
       "<Figure size 432x288 with 0 Axes>"
      ]
     },
     "execution_count": 19,
     "metadata": {},
     "output_type": "execute_result"
    },
    {
     "data": {
      "image/png": "[encoded data removed]",
      "text/plain": [
       "<Figure size 432x288 with 1 Axes>"
      ]
     },
     "metadata": {
      "needs_background": "light"
     },
     "output_type": "display_data"
    },
    {
     "data": {
      "text/plain": [
       "<Figure size 432x288 with 0 Axes>"
      ]
     },
     "metadata": {},
     "output_type": "display_data"
    }
   ],
   "source": [
    "from sklearn.metrics import precision_recall_curve\n",
    "pre, rec, thresholds = precision_recall_curve(y_test, clf.predict_proba(X_test)[:,1])\n",
    "plot_prec_recall_vs_tresh(pre, rec, thresholds)\n",
    "plt.figure()"
   ]
  },
  {
   "cell_type": "code",
   "execution_count": 20,
   "metadata": {},
   "outputs": [
    {
     "name": "stdout",
     "output_type": "stream",
     "text": [
      "Testing F1 score: 0.6274133821949751\n"
     ]
    }
   ],
   "source": [
    "print('Testing F1 score: {}'.format(f1_score(y_test, y_pred, average='weighted')))"
   ]
  },
  {
   "cell_type": "code",
   "execution_count": 21,
   "metadata": {},
   "outputs": [
    {
     "name": "stderr",
     "output_type": "stream",
     "text": [
      "100%|█████████████████████████████████████████████████████████████████████████| 9172/9172 [00:00<00:00, 2095895.19it/s]\n"
     ]
    }
   ],
   "source": [
    "model_dmm = Doc2Vec(dm=1, dm_mean=1, vector_size=300, window=10, negative=5, min_count=1, workers=5, alpha=0.065, min_alpha=0.065)\n",
    "model_dmm.build_vocab([x for x in tqdm(train_tagged.values)])"
   ]
  },
  {
   "cell_type": "code",
   "execution_count": 22,
   "metadata": {},
   "outputs": [
    {
     "name": "stderr",
     "output_type": "stream",
     "text": [
      "100%|█████████████████████████████████████████████████████████████████████████| 9172/9172 [00:00<00:00, 1334888.66it/s]\n",
      "100%|█████████████████████████████████████████████████████████████████████████| 9172/9172 [00:00<00:00, 1537883.52it/s]\n",
      "100%|█████████████████████████████████████████████████████████████████████████| 9172/9172 [00:00<00:00, 1309132.11it/s]\n",
      "100%|██████████████████████████████████████████████████████████████████████████| 9172/9172 [00:00<00:00, 990171.84it/s]\n",
      "100%|█████████████████████████████████████████████████████████████████████████| 9172/9172 [00:00<00:00, 1787812.82it/s]\n",
      "100%|█████████████████████████████████████████████████████████████████████████| 9172/9172 [00:00<00:00, 1817029.86it/s]\n",
      "100%|█████████████████████████████████████████████████████████████████████████| 9172/9172 [00:00<00:00, 1449024.68it/s]\n",
      "100%|█████████████████████████████████████████████████████████████████████████| 9172/9172 [00:00<00:00, 1143481.74it/s]\n",
      "100%|█████████████████████████████████████████████████████████████████████████| 9172/9172 [00:00<00:00, 1142191.63it/s]\n",
      "100%|█████████████████████████████████████████████████████████████████████████| 9172/9172 [00:00<00:00, 1718338.23it/s]\n",
      "100%|█████████████████████████████████████████████████████████████████████████| 9172/9172 [00:00<00:00, 1811639.10it/s]\n",
      "100%|█████████████████████████████████████████████████████████████████████████| 9172/9172 [00:00<00:00, 2041615.26it/s]\n",
      "100%|█████████████████████████████████████████████████████████████████████████| 9172/9172 [00:00<00:00, 1478427.28it/s]\n",
      "100%|█████████████████████████████████████████████████████████████████████████| 9172/9172 [00:00<00:00, 1894148.51it/s]\n",
      "100%|█████████████████████████████████████████████████████████████████████████| 9172/9172 [00:00<00:00, 1147746.17it/s]\n",
      "100%|█████████████████████████████████████████████████████████████████████████| 9172/9172 [00:00<00:00, 1103529.91it/s]\n",
      "100%|█████████████████████████████████████████████████████████████████████████| 9172/9172 [00:00<00:00, 1097203.70it/s]\n",
      "100%|█████████████████████████████████████████████████████████████████████████| 9172/9172 [00:00<00:00, 1472034.76it/s]\n",
      "100%|█████████████████████████████████████████████████████████████████████████| 9172/9172 [00:00<00:00, 2298509.67it/s]\n",
      "100%|█████████████████████████████████████████████████████████████████████████| 9172/9172 [00:00<00:00, 2210547.39it/s]\n",
      "100%|█████████████████████████████████████████████████████████████████████████| 9172/9172 [00:00<00:00, 1149117.52it/s]\n",
      "100%|█████████████████████████████████████████████████████████████████████████| 9172/9172 [00:00<00:00, 1533653.18it/s]\n",
      "100%|█████████████████████████████████████████████████████████████████████████| 9172/9172 [00:00<00:00, 1011361.17it/s]\n",
      "100%|█████████████████████████████████████████████████████████████████████████| 9172/9172 [00:00<00:00, 1645852.50it/s]\n",
      "100%|█████████████████████████████████████████████████████████████████████████| 9172/9172 [00:00<00:00, 1474913.02it/s]\n",
      "100%|█████████████████████████████████████████████████████████████████████████| 9172/9172 [00:00<00:00, 1711686.60it/s]\n",
      "100%|█████████████████████████████████████████████████████████████████████████| 9172/9172 [00:00<00:00, 1147780.42it/s]\n",
      "100%|██████████████████████████████████████████████████████████████████████████| 9172/9172 [00:00<00:00, 852165.43it/s]\n",
      "100%|█████████████████████████████████████████████████████████████████████████| 9172/9172 [00:00<00:00, 1749597.79it/s]\n",
      "100%|█████████████████████████████████████████████████████████████████████████| 9172/9172 [00:00<00:00, 1804670.28it/s]\n"
     ]
    },
    {
     "name": "stdout",
     "output_type": "stream",
     "text": [
      "Wall time: 2min 25s\n"
     ]
    }
   ],
   "source": [
    "%%time\n",
    "for epoch in range(30):\n",
    "    model_dmm.train(utils.shuffle([x for x in tqdm(train_tagged.values)]), total_examples=len(train_tagged.values), epochs=1)\n",
    "    model_dmm.alpha -= 0.002\n",
    "    model_dmm.min_alpha = model_dmm.alpha"
   ]
  },
  {
   "cell_type": "markdown",
   "metadata": {},
   "source": [
    "# Distributed Memory(DM)"
   ]
  },
  {
   "cell_type": "code",
   "execution_count": 23,
   "metadata": {},
   "outputs": [],
   "source": [
    "y_train, X_train = vec_for_learning(model_dmm, train_tagged)\n",
    "y_test, X_test = vec_for_learning(model_dmm, test_tagged)"
   ]
  },
  {
   "cell_type": "markdown",
   "metadata": {},
   "source": [
    "## Logistic Regression"
   ]
  },
  {
   "cell_type": "code",
   "execution_count": 24,
   "metadata": {},
   "outputs": [
    {
     "name": "stderr",
     "output_type": "stream",
     "text": [
      "C:\\Users\\gokul\\Anaconda3\\lib\\site-packages\\sklearn\\linear_model\\logistic.py:433: FutureWarning: Default solver will be changed to 'lbfgs' in 0.22. Specify a solver to silence this warning.\n",
      "  FutureWarning)\n"
     ]
    },
    {
     "name": "stdout",
     "output_type": "stream",
     "text": [
      "Training accuracy 0.6289795028347144\n",
      "Testing F1 score: 0.6288903465890184\n",
      "Testing accuracy 0.5254323499491353\n",
      "Testing F1 score: 0.5254205612180429\n"
     ]
    }
   ],
   "source": [
    "from sklearn.linear_model import LogisticRegressionCV\n",
    "x_train_scaled = min_max_scaler.fit_transform(X_train)\n",
    "x_test_scaled = min_max_scaler.fit_transform(X_test)\n",
    "\n",
    "logreg = LogisticRegression()\n",
    "clf = LogisticRegression(penalty='l2', dual=False, tol=0.0001, C=1.0, fit_intercept=True, intercept_scaling=1, class_weight=None, random_state=None, solver='warn', max_iter=100, multi_class='warn', verbose=0, warm_start=False, n_jobs=None).fit(X_train,y_train)\n",
    "y_train_pred= clf.predict(X_train)\n",
    "y_pred = clf.predict(X_test)\n",
    "\n",
    "from sklearn.metrics import accuracy_score, f1_score\n",
    "\n",
    "print('Training accuracy %s' % accuracy_score(y_train, y_train_pred))\n",
    "print('Testing F1 score: {}'.format(f1_score(y_train, y_train_pred, average='weighted')))\n",
    "print('Testing accuracy %s' % accuracy_score(y_test, y_pred))\n",
    "print('Testing F1 score: {}'.format(f1_score(y_test, y_pred, average='weighted')))"
   ]
  },
  {
   "cell_type": "code",
   "execution_count": 25,
   "metadata": {},
   "outputs": [
    {
     "data": {
      "text/plain": [
       "<Figure size 432x288 with 0 Axes>"
      ]
     },
     "execution_count": 25,
     "metadata": {},
     "output_type": "execute_result"
    },
    {
     "data": {
      "image/png": "[encoded data removed]",
      "text/plain": [
       "<Figure size 432x288 with 1 Axes>"
      ]
     },
     "metadata": {
      "needs_background": "light"
     },
     "output_type": "display_data"
    },
    {
     "data": {
      "text/plain": [
       "<Figure size 432x288 with 0 Axes>"
      ]
     },
     "metadata": {},
     "output_type": "display_data"
    }
   ],
   "source": [
    "from sklearn.metrics import precision_recall_curve\n",
    "pre, rec, thresholds = precision_recall_curve(y_test, clf.predict_proba(X_test)[:,1])\n",
    "plot_prec_recall_vs_tresh(pre, rec, thresholds)\n",
    "plt.figure()"
   ]
  },
  {
   "cell_type": "markdown",
   "metadata": {},
   "source": [
    "## Random Forest"
   ]
  },
  {
   "cell_type": "code",
   "execution_count": 26,
   "metadata": {},
   "outputs": [
    {
     "name": "stdout",
     "output_type": "stream",
     "text": [
      "Training accuracy 1.0\n",
      "Testing F1 score: 1.0\n",
      "Testing accuracy 0.5058494404883012\n",
      "Testing F1 score: 0.5050728232211091\n"
     ]
    }
   ],
   "source": [
    "from sklearn.ensemble import RandomForestClassifier\n",
    "clf = RandomForestClassifier(random_state=0, n_estimators=100,class_weight='balanced')\n",
    "clf.fit(X_train,y_train)\n",
    "y_train_pred= clf.predict(X_train)\n",
    "y_pred = clf.predict(X_test)\n",
    "\n",
    "from sklearn.metrics import accuracy_score, f1_score\n",
    "\n",
    "print('Training accuracy %s' % accuracy_score(y_train, y_train_pred))\n",
    "print('Testing F1 score: {}'.format(f1_score(y_train, y_train_pred, average='weighted')))\n",
    "print('Testing accuracy %s' % accuracy_score(y_test, y_pred))\n",
    "print('Testing F1 score: {}'.format(f1_score(y_test, y_pred, average='weighted')))"
   ]
  },
  {
   "cell_type": "code",
   "execution_count": 27,
   "metadata": {},
   "outputs": [
    {
     "data": {
      "text/plain": [
       "<Figure size 432x288 with 0 Axes>"
      ]
     },
     "execution_count": 27,
     "metadata": {},
     "output_type": "execute_result"
    },
    {
     "data": {
      "image/png": "[encoded data removed]",
      "text/plain": [
       "<Figure size 432x288 with 1 Axes>"
      ]
     },
     "metadata": {
      "needs_background": "light"
     },
     "output_type": "display_data"
    },
    {
     "data": {
      "text/plain": [
       "<Figure size 432x288 with 0 Axes>"
      ]
     },
     "metadata": {},
     "output_type": "display_data"
    }
   ],
   "source": [
    "from sklearn.metrics import precision_recall_curve\n",
    "pre, rec, thresholds = precision_recall_curve(y_test, clf.predict_proba(X_test)[:,1])\n",
    "plot_prec_recall_vs_tresh(pre, rec, thresholds)\n",
    "plt.figure()"
   ]
  },
  {
   "cell_type": "markdown",
   "metadata": {},
   "source": [
    "## SVM"
   ]
  },
  {
   "cell_type": "code",
   "execution_count": 28,
   "metadata": {},
   "outputs": [
    {
     "data": {
      "text/plain": [
       "0.5142421159715158"
      ]
     },
     "execution_count": 28,
     "metadata": {},
     "output_type": "execute_result"
    }
   ],
   "source": [
    "from sklearn import svm\n",
    "clf = svm.SVC(gamma='scale',probability=True)\n",
    "clf.fit(X_train, y_train) \n",
    "clf.score(X_test,y_test)"
   ]
  },
  {
   "cell_type": "code",
   "execution_count": 29,
   "metadata": {},
   "outputs": [
    {
     "data": {
      "text/plain": [
       "<Figure size 432x288 with 0 Axes>"
      ]
     },
     "execution_count": 29,
     "metadata": {},
     "output_type": "execute_result"
    },
    {
     "data": {
      "image/png": "[encoded data removed]",
      "text/plain": [
       "<Figure size 432x288 with 1 Axes>"
      ]
     },
     "metadata": {
      "needs_background": "light"
     },
     "output_type": "display_data"
    },
    {
     "data": {
      "text/plain": [
       "<Figure size 432x288 with 0 Axes>"
      ]
     },
     "metadata": {},
     "output_type": "display_data"
    }
   ],
   "source": [
    "from sklearn.metrics import precision_recall_curve\n",
    "pre, rec, thresholds = precision_recall_curve(y_test, clf.predict_proba(X_test)[:,1])\n",
    "plot_prec_recall_vs_tresh(pre, rec, thresholds)\n",
    "plt.figure()"
   ]
  },
  {
   "cell_type": "code",
   "execution_count": null,
   "metadata": {},
   "outputs": [],
   "source": []
  }
 ],
 "metadata": {
  "kernelspec": {
   "display_name": "Python 3",
   "language": "python",
   "name": "python3"
  },
  "language_info": {
   "codemirror_mode": {
    "name": "ipython",
    "version": 3
   },
   "file_extension": ".py",
   "mimetype": "text/x-python",
   "name": "python",
   "nbconvert_exporter": "python",
   "pygments_lexer": "ipython3",
   "version": "3.6.8"
  }
 },
 "nbformat": 4,
 "nbformat_minor": 2
}
